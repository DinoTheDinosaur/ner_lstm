{
 "cells": [
  {
   "cell_type": "code",
   "execution_count": 1,
   "metadata": {
    "scrolled": true
   },
   "outputs": [],
   "source": [
    "import os\n",
    "import sys\n",
    "import random\n",
    "\n",
    "import numpy as np\n",
    "\n",
    "sys.path.append('../src/')\n",
    "\n",
    "from copy import deepcopy\n",
    "from elmo_ner import ELMo_NER"
   ]
  },
  {
   "cell_type": "code",
   "execution_count": 2,
   "metadata": {},
   "outputs": [],
   "source": [
    "def make_dataset(path, percent_test=0.2, target_mapping={}):\n",
    "    X = []\n",
    "    y = []\n",
    "    for filename in sorted(os.listdir(path)):\n",
    "        if filename.endswith('.txt'):\n",
    "            filename_full = os.path.join(path, filename)\n",
    "            with open(filename_full) as f:\n",
    "                text = f.read().strip()\n",
    "            span_dict = {}\n",
    "            with open(filename_full[:-4] + '.spans') as f:\n",
    "                span = f.read().strip()\n",
    "                for line in span.split('\\n'):\n",
    "                    metadata, items = line.strip().split('  # ')\n",
    "                    postag, offset, length = metadata.split()[1:4]\n",
    "                    try:\n",
    "                        real_postag = target_mapping[postag]\n",
    "                    except KeyError:\n",
    "                        continue\n",
    "                    if real_postag in span_dict:\n",
    "                        span_dict[real_postag] += [(int(offset), int(offset)+int(length))]\n",
    "                    else:\n",
    "                        span_dict[real_postag] = [(int(offset), int(offset)+int(length))]\n",
    "            X += [text]\n",
    "            y += [span_dict]\n",
    "    X_y = list(zip(X, y))\n",
    "    random.shuffle(X_y)\n",
    "    n_test = int(len(X_y)*percent_test)\n",
    "    X_train, y_train = list(zip(*X_y[:-n_test]))\n",
    "    X_test, y_test = list(zip(*X_y[-n_test:]))\n",
    "    return X_train, X_test, y_train, y_test"
   ]
  },
  {
   "cell_type": "code",
   "execution_count": 3,
   "metadata": {},
   "outputs": [],
   "source": [
    "target_mapping = {'loc_name': 'ORG',\n",
    "                  'org_name': 'LOC',\n",
    "                  'name': 'PER',\n",
    "                  'surname': 'PER'}\n",
    "X_train, X_test, y_train, y_test = make_dataset('/home/olya/datasets/factRuEval-2016/devset/',\n",
    "                                                target_mapping=target_mapping)"
   ]
  },
  {
   "cell_type": "code",
   "execution_count": 4,
   "metadata": {},
   "outputs": [],
   "source": [
    "ner = ELMo_NER(elmo_hub_module_handle='http://files.deeppavlov.ai/deeppavlov_data/elmo_ru-news_wmt11-16_1.5M_steps.tar.gz')"
   ]
  },
  {
   "cell_type": "code",
   "execution_count": null,
   "metadata": {},
   "outputs": [
    {
     "name": "stdout",
     "output_type": "stream",
     "text": [
      "INFO:tensorflow:Using /tmp/tfhub_modules to cache modules.\n",
      "INFO:tensorflow:Initialize variable module/aggregation/elmo_output_ELMo_W:0 from checkpoint b'/tmp/tfhub_modules/48ab951bfe35732722bd465a2822752b390006c5/variables/variables' with aggregation/elmo_output_ELMo_W\n",
      "INFO:tensorflow:Initialize variable module/aggregation/elmo_output_ELMo_gamma:0 from checkpoint b'/tmp/tfhub_modules/48ab951bfe35732722bd465a2822752b390006c5/variables/variables' with aggregation/elmo_output_ELMo_gamma\n",
      "INFO:tensorflow:Initialize variable module/bilm/CNN/W_cnn_0:0 from checkpoint b'/tmp/tfhub_modules/48ab951bfe35732722bd465a2822752b390006c5/variables/variables' with bilm/CNN/W_cnn_0\n",
      "INFO:tensorflow:Initialize variable module/bilm/CNN/W_cnn_1:0 from checkpoint b'/tmp/tfhub_modules/48ab951bfe35732722bd465a2822752b390006c5/variables/variables' with bilm/CNN/W_cnn_1\n",
      "INFO:tensorflow:Initialize variable module/bilm/CNN/W_cnn_2:0 from checkpoint b'/tmp/tfhub_modules/48ab951bfe35732722bd465a2822752b390006c5/variables/variables' with bilm/CNN/W_cnn_2\n",
      "INFO:tensorflow:Initialize variable module/bilm/CNN/W_cnn_3:0 from checkpoint b'/tmp/tfhub_modules/48ab951bfe35732722bd465a2822752b390006c5/variables/variables' with bilm/CNN/W_cnn_3\n",
      "INFO:tensorflow:Initialize variable module/bilm/CNN/W_cnn_4:0 from checkpoint b'/tmp/tfhub_modules/48ab951bfe35732722bd465a2822752b390006c5/variables/variables' with bilm/CNN/W_cnn_4\n",
      "INFO:tensorflow:Initialize variable module/bilm/CNN/W_cnn_5:0 from checkpoint b'/tmp/tfhub_modules/48ab951bfe35732722bd465a2822752b390006c5/variables/variables' with bilm/CNN/W_cnn_5\n",
      "INFO:tensorflow:Initialize variable module/bilm/CNN/W_cnn_6:0 from checkpoint b'/tmp/tfhub_modules/48ab951bfe35732722bd465a2822752b390006c5/variables/variables' with bilm/CNN/W_cnn_6\n",
      "INFO:tensorflow:Initialize variable module/bilm/CNN/b_cnn_0:0 from checkpoint b'/tmp/tfhub_modules/48ab951bfe35732722bd465a2822752b390006c5/variables/variables' with bilm/CNN/b_cnn_0\n",
      "INFO:tensorflow:Initialize variable module/bilm/CNN/b_cnn_1:0 from checkpoint b'/tmp/tfhub_modules/48ab951bfe35732722bd465a2822752b390006c5/variables/variables' with bilm/CNN/b_cnn_1\n",
      "INFO:tensorflow:Initialize variable module/bilm/CNN/b_cnn_2:0 from checkpoint b'/tmp/tfhub_modules/48ab951bfe35732722bd465a2822752b390006c5/variables/variables' with bilm/CNN/b_cnn_2\n",
      "INFO:tensorflow:Initialize variable module/bilm/CNN/b_cnn_3:0 from checkpoint b'/tmp/tfhub_modules/48ab951bfe35732722bd465a2822752b390006c5/variables/variables' with bilm/CNN/b_cnn_3\n",
      "INFO:tensorflow:Initialize variable module/bilm/CNN/b_cnn_4:0 from checkpoint b'/tmp/tfhub_modules/48ab951bfe35732722bd465a2822752b390006c5/variables/variables' with bilm/CNN/b_cnn_4\n",
      "INFO:tensorflow:Initialize variable module/bilm/CNN/b_cnn_5:0 from checkpoint b'/tmp/tfhub_modules/48ab951bfe35732722bd465a2822752b390006c5/variables/variables' with bilm/CNN/b_cnn_5\n",
      "INFO:tensorflow:Initialize variable module/bilm/CNN/b_cnn_6:0 from checkpoint b'/tmp/tfhub_modules/48ab951bfe35732722bd465a2822752b390006c5/variables/variables' with bilm/CNN/b_cnn_6\n",
      "INFO:tensorflow:Initialize variable module/bilm/CNN_high_0/W_carry:0 from checkpoint b'/tmp/tfhub_modules/48ab951bfe35732722bd465a2822752b390006c5/variables/variables' with bilm/CNN_high_0/W_carry\n",
      "INFO:tensorflow:Initialize variable module/bilm/CNN_high_0/W_transform:0 from checkpoint b'/tmp/tfhub_modules/48ab951bfe35732722bd465a2822752b390006c5/variables/variables' with bilm/CNN_high_0/W_transform\n",
      "INFO:tensorflow:Initialize variable module/bilm/CNN_high_0/b_carry:0 from checkpoint b'/tmp/tfhub_modules/48ab951bfe35732722bd465a2822752b390006c5/variables/variables' with bilm/CNN_high_0/b_carry\n",
      "INFO:tensorflow:Initialize variable module/bilm/CNN_high_0/b_transform:0 from checkpoint b'/tmp/tfhub_modules/48ab951bfe35732722bd465a2822752b390006c5/variables/variables' with bilm/CNN_high_0/b_transform\n",
      "INFO:tensorflow:Initialize variable module/bilm/CNN_high_1/W_carry:0 from checkpoint b'/tmp/tfhub_modules/48ab951bfe35732722bd465a2822752b390006c5/variables/variables' with bilm/CNN_high_1/W_carry\n",
      "INFO:tensorflow:Initialize variable module/bilm/CNN_high_1/W_transform:0 from checkpoint b'/tmp/tfhub_modules/48ab951bfe35732722bd465a2822752b390006c5/variables/variables' with bilm/CNN_high_1/W_transform\n",
      "INFO:tensorflow:Initialize variable module/bilm/CNN_high_1/b_carry:0 from checkpoint b'/tmp/tfhub_modules/48ab951bfe35732722bd465a2822752b390006c5/variables/variables' with bilm/CNN_high_1/b_carry\n",
      "INFO:tensorflow:Initialize variable module/bilm/CNN_high_1/b_transform:0 from checkpoint b'/tmp/tfhub_modules/48ab951bfe35732722bd465a2822752b390006c5/variables/variables' with bilm/CNN_high_1/b_transform\n",
      "INFO:tensorflow:Initialize variable module/bilm/CNN_proj/W_proj:0 from checkpoint b'/tmp/tfhub_modules/48ab951bfe35732722bd465a2822752b390006c5/variables/variables' with bilm/CNN_proj/W_proj\n",
      "INFO:tensorflow:Initialize variable module/bilm/CNN_proj/b_proj:0 from checkpoint b'/tmp/tfhub_modules/48ab951bfe35732722bd465a2822752b390006c5/variables/variables' with bilm/CNN_proj/b_proj\n",
      "INFO:tensorflow:Initialize variable module/bilm/RNN_0/RNN/MultiRNNCell/Cell0/rnn/lstm_cell/bias:0 from checkpoint b'/tmp/tfhub_modules/48ab951bfe35732722bd465a2822752b390006c5/variables/variables' with bilm/RNN_0/RNN/MultiRNNCell/Cell0/rnn/lstm_cell/bias\n",
      "INFO:tensorflow:Initialize variable module/bilm/RNN_0/RNN/MultiRNNCell/Cell0/rnn/lstm_cell/kernel:0 from checkpoint b'/tmp/tfhub_modules/48ab951bfe35732722bd465a2822752b390006c5/variables/variables' with bilm/RNN_0/RNN/MultiRNNCell/Cell0/rnn/lstm_cell/kernel\n",
      "INFO:tensorflow:Initialize variable module/bilm/RNN_0/RNN/MultiRNNCell/Cell0/rnn/lstm_cell/projection/kernel:0 from checkpoint b'/tmp/tfhub_modules/48ab951bfe35732722bd465a2822752b390006c5/variables/variables' with bilm/RNN_0/RNN/MultiRNNCell/Cell0/rnn/lstm_cell/projection/kernel\n",
      "INFO:tensorflow:Initialize variable module/bilm/RNN_0/RNN/MultiRNNCell/Cell1/rnn/lstm_cell/bias:0 from checkpoint b'/tmp/tfhub_modules/48ab951bfe35732722bd465a2822752b390006c5/variables/variables' with bilm/RNN_0/RNN/MultiRNNCell/Cell1/rnn/lstm_cell/bias\n",
      "INFO:tensorflow:Initialize variable module/bilm/RNN_0/RNN/MultiRNNCell/Cell1/rnn/lstm_cell/kernel:0 from checkpoint b'/tmp/tfhub_modules/48ab951bfe35732722bd465a2822752b390006c5/variables/variables' with bilm/RNN_0/RNN/MultiRNNCell/Cell1/rnn/lstm_cell/kernel\n",
      "INFO:tensorflow:Initialize variable module/bilm/RNN_0/RNN/MultiRNNCell/Cell1/rnn/lstm_cell/projection/kernel:0 from checkpoint b'/tmp/tfhub_modules/48ab951bfe35732722bd465a2822752b390006c5/variables/variables' with bilm/RNN_0/RNN/MultiRNNCell/Cell1/rnn/lstm_cell/projection/kernel\n",
      "INFO:tensorflow:Initialize variable module/bilm/RNN_1/RNN/MultiRNNCell/Cell0/rnn/lstm_cell/bias:0 from checkpoint b'/tmp/tfhub_modules/48ab951bfe35732722bd465a2822752b390006c5/variables/variables' with bilm/RNN_1/RNN/MultiRNNCell/Cell0/rnn/lstm_cell/bias\n",
      "INFO:tensorflow:Initialize variable module/bilm/RNN_1/RNN/MultiRNNCell/Cell0/rnn/lstm_cell/kernel:0 from checkpoint b'/tmp/tfhub_modules/48ab951bfe35732722bd465a2822752b390006c5/variables/variables' with bilm/RNN_1/RNN/MultiRNNCell/Cell0/rnn/lstm_cell/kernel\n",
      "INFO:tensorflow:Initialize variable module/bilm/RNN_1/RNN/MultiRNNCell/Cell0/rnn/lstm_cell/projection/kernel:0 from checkpoint b'/tmp/tfhub_modules/48ab951bfe35732722bd465a2822752b390006c5/variables/variables' with bilm/RNN_1/RNN/MultiRNNCell/Cell0/rnn/lstm_cell/projection/kernel\n",
      "INFO:tensorflow:Initialize variable module/bilm/RNN_1/RNN/MultiRNNCell/Cell1/rnn/lstm_cell/bias:0 from checkpoint b'/tmp/tfhub_modules/48ab951bfe35732722bd465a2822752b390006c5/variables/variables' with bilm/RNN_1/RNN/MultiRNNCell/Cell1/rnn/lstm_cell/bias\n",
      "INFO:tensorflow:Initialize variable module/bilm/RNN_1/RNN/MultiRNNCell/Cell1/rnn/lstm_cell/kernel:0 from checkpoint b'/tmp/tfhub_modules/48ab951bfe35732722bd465a2822752b390006c5/variables/variables' with bilm/RNN_1/RNN/MultiRNNCell/Cell1/rnn/lstm_cell/kernel\n",
      "INFO:tensorflow:Initialize variable module/bilm/RNN_1/RNN/MultiRNNCell/Cell1/rnn/lstm_cell/projection/kernel:0 from checkpoint b'/tmp/tfhub_modules/48ab951bfe35732722bd465a2822752b390006c5/variables/variables' with bilm/RNN_1/RNN/MultiRNNCell/Cell1/rnn/lstm_cell/projection/kernel\n"
     ]
    },
    {
     "name": "stdout",
     "output_type": "stream",
     "text": [
      "INFO:tensorflow:Initialize variable module/bilm/Variable:0 from checkpoint b'/tmp/tfhub_modules/48ab951bfe35732722bd465a2822752b390006c5/variables/variables' with bilm/Variable\n",
      "INFO:tensorflow:Initialize variable module/bilm/Variable_1:0 from checkpoint b'/tmp/tfhub_modules/48ab951bfe35732722bd465a2822752b390006c5/variables/variables' with bilm/Variable_1\n",
      "INFO:tensorflow:Initialize variable module/bilm/Variable_2:0 from checkpoint b'/tmp/tfhub_modules/48ab951bfe35732722bd465a2822752b390006c5/variables/variables' with bilm/Variable_2\n",
      "INFO:tensorflow:Initialize variable module/bilm/Variable_3:0 from checkpoint b'/tmp/tfhub_modules/48ab951bfe35732722bd465a2822752b390006c5/variables/variables' with bilm/Variable_3\n",
      "INFO:tensorflow:Initialize variable module/bilm/Variable_4:0 from checkpoint b'/tmp/tfhub_modules/48ab951bfe35732722bd465a2822752b390006c5/variables/variables' with bilm/Variable_4\n",
      "INFO:tensorflow:Initialize variable module/bilm/Variable_5:0 from checkpoint b'/tmp/tfhub_modules/48ab951bfe35732722bd465a2822752b390006c5/variables/variables' with bilm/Variable_5\n",
      "INFO:tensorflow:Initialize variable module/bilm/Variable_6:0 from checkpoint b'/tmp/tfhub_modules/48ab951bfe35732722bd465a2822752b390006c5/variables/variables' with bilm/Variable_6\n",
      "INFO:tensorflow:Initialize variable module/bilm/Variable_7:0 from checkpoint b'/tmp/tfhub_modules/48ab951bfe35732722bd465a2822752b390006c5/variables/variables' with bilm/Variable_7\n",
      "INFO:tensorflow:Initialize variable module/bilm/char_embed:0 from checkpoint b'/tmp/tfhub_modules/48ab951bfe35732722bd465a2822752b390006c5/variables/variables' with bilm/char_embed\n",
      "INFO:tensorflow:Initialize variable module/bilm_1/Variable:0 from checkpoint b'/tmp/tfhub_modules/48ab951bfe35732722bd465a2822752b390006c5/variables/variables' with bilm_1/Variable\n",
      "INFO:tensorflow:Initialize variable module/bilm_1/Variable_1:0 from checkpoint b'/tmp/tfhub_modules/48ab951bfe35732722bd465a2822752b390006c5/variables/variables' with bilm_1/Variable_1\n",
      "INFO:tensorflow:Initialize variable module/bilm_1/Variable_2:0 from checkpoint b'/tmp/tfhub_modules/48ab951bfe35732722bd465a2822752b390006c5/variables/variables' with bilm_1/Variable_2\n",
      "INFO:tensorflow:Initialize variable module/bilm_1/Variable_3:0 from checkpoint b'/tmp/tfhub_modules/48ab951bfe35732722bd465a2822752b390006c5/variables/variables' with bilm_1/Variable_3\n",
      "INFO:tensorflow:Initialize variable module/bilm_1/Variable_4:0 from checkpoint b'/tmp/tfhub_modules/48ab951bfe35732722bd465a2822752b390006c5/variables/variables' with bilm_1/Variable_4\n",
      "INFO:tensorflow:Initialize variable module/bilm_1/Variable_5:0 from checkpoint b'/tmp/tfhub_modules/48ab951bfe35732722bd465a2822752b390006c5/variables/variables' with bilm_1/Variable_5\n",
      "INFO:tensorflow:Initialize variable module/bilm_1/Variable_6:0 from checkpoint b'/tmp/tfhub_modules/48ab951bfe35732722bd465a2822752b390006c5/variables/variables' with bilm_1/Variable_6\n",
      "INFO:tensorflow:Initialize variable module/bilm_1/Variable_7:0 from checkpoint b'/tmp/tfhub_modules/48ab951bfe35732722bd465a2822752b390006c5/variables/variables' with bilm_1/Variable_7\n"
     ]
    }
   ],
   "source": [
    "ner.fit(X_train[:10], y_train[:10])"
   ]
  },
  {
   "cell_type": "code",
   "execution_count": 7,
   "metadata": {},
   "outputs": [
    {
     "data": {
      "text/plain": [
       "{'PER': [(177, 184), (187, 194), (1304, 1310), (1311, 1320)],\n",
       " 'ORG': [(253, 261), (264, 270)],\n",
       " 'LOC': [(629, 633), (691, 695), (1200, 1204), (1331, 1335)]}"
      ]
     },
     "execution_count": 7,
     "metadata": {},
     "output_type": "execute_result"
    }
   ],
   "source": [
    "y_train[33]"
   ]
  },
  {
   "cell_type": "code",
   "execution_count": null,
   "metadata": {},
   "outputs": [],
   "source": []
  }
 ],
 "metadata": {
  "kernelspec": {
   "display_name": "NER LSTM CRF",
   "language": "python",
   "name": "ner_lstm_env"
  },
  "language_info": {
   "codemirror_mode": {
    "name": "ipython",
    "version": 3
   },
   "file_extension": ".py",
   "mimetype": "text/x-python",
   "name": "python",
   "nbconvert_exporter": "python",
   "pygments_lexer": "ipython3",
   "version": "3.6.8"
  }
 },
 "nbformat": 4,
 "nbformat_minor": 2
}
